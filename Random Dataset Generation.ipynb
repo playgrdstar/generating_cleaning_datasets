{
 "cells": [
  {
   "cell_type": "markdown",
   "metadata": {},
   "source": [
    "### Random Dataset Generation ###"
   ]
  },
  {
   "cell_type": "markdown",
   "metadata": {},
   "source": [
    "It's sometimes useful to be able to generate your own dataset for testing of a model; or for demonstration purposes.\n",
    "We could of course manually create a random dataset in Excel, but why do so when you can do it faster in Python."
   ]
  },
  {
   "cell_type": "code",
   "execution_count": 1,
   "metadata": {
    "collapsed": true
   },
   "outputs": [],
   "source": [
    "import numpy as np\n",
    "import pandas as pd\n",
    "\n",
    "num_rows = 500 # Number of rows to generate"
   ]
  },
  {
   "cell_type": "code",
   "execution_count": 2,
   "metadata": {
    "collapsed": true
   },
   "outputs": [],
   "source": [
    "# Dataset headers\n",
    "column_headers = ['No', 'Gender', 'Height', 'Weight', 'Shoe Size',\n",
    "                       'Shopping Satisfaction Offline', 'Shopping Satisfaction Online',\n",
    "                       'Average Spent Per Month']"
   ]
  },
  {
   "cell_type": "markdown",
   "metadata": {},
   "source": [
    "### Sample Generation ###"
   ]
  },
  {
   "cell_type": "markdown",
   "metadata": {},
   "source": [
    "Let's do the categorical ones first.\n",
    "The function np.random.choice generates 'num_rows' samples from the list with probabilities of each choice specified in p."
   ]
  },
  {
   "cell_type": "code",
   "execution_count": 3,
   "metadata": {},
   "outputs": [],
   "source": [
    "no_answers = np.arange(1,num_rows+1)"
   ]
  },
  {
   "cell_type": "code",
   "execution_count": 4,
   "metadata": {},
   "outputs": [],
   "source": [
    "gender_list = ['Male', 'Female', 'LGBT']\n",
    "gender = np.random.choice(gender_list, num_rows, p=[0.4, 0.4, 0.2])"
   ]
  },
  {
   "cell_type": "code",
   "execution_count": 5,
   "metadata": {
    "collapsed": true
   },
   "outputs": [],
   "source": [
    "satisfaction_list = ['High', 'Medium', 'Low']\n",
    "satisfaction_offline = np.random.choice(satisfaction_list, num_rows, p=[0.4, 0.4, 0.2])\n",
    "satisfaction_online = np.random.choice(satisfaction_list, num_rows, p=[0.3, 0.4, 0.3])"
   ]
  },
  {
   "cell_type": "markdown",
   "metadata": {},
   "source": [
    "For the height, weight, shoe size, and average spent per month we can use the randint function but with a range. I shall just assume that these are in nice round numbers for simplicity."
   ]
  },
  {
   "cell_type": "code",
   "execution_count": 6,
   "metadata": {
    "scrolled": true
   },
   "outputs": [],
   "source": [
    "height = np.random.randint(110,200,num_rows)\n",
    "weight = np.random.randint(30,100,num_rows)\n",
    "shoe_size = np.random.randint(4,12,num_rows)\n",
    "monthly_spending = np.random.uniform(100,10000,num_rows)"
   ]
  },
  {
   "cell_type": "markdown",
   "metadata": {},
   "source": [
    "Now let's create a pandas dataframe with all these randomly generated data."
   ]
  },
  {
   "cell_type": "code",
   "execution_count": 8,
   "metadata": {},
   "outputs": [],
   "source": [
    "responses = pd.DataFrame([no_answers, gender, height, weight, shoe_size,\n",
    "                         satisfaction_offline, satisfaction_online,\n",
    "                         monthly_spending])"
   ]
  },
  {
   "cell_type": "code",
   "execution_count": 10,
   "metadata": {},
   "outputs": [],
   "source": [
    "responses = responses.transpose()\n",
    "responses.columns = column_headers"
   ]
  },
  {
   "cell_type": "code",
   "execution_count": 11,
   "metadata": {},
   "outputs": [
    {
     "data": {
      "text/html": [
       "<div>\n",
       "<style>\n",
       "    .dataframe thead tr:only-child th {\n",
       "        text-align: right;\n",
       "    }\n",
       "\n",
       "    .dataframe thead th {\n",
       "        text-align: left;\n",
       "    }\n",
       "\n",
       "    .dataframe tbody tr th {\n",
       "        vertical-align: top;\n",
       "    }\n",
       "</style>\n",
       "<table border=\"1\" class=\"dataframe\">\n",
       "  <thead>\n",
       "    <tr style=\"text-align: right;\">\n",
       "      <th></th>\n",
       "      <th>No</th>\n",
       "      <th>Gender</th>\n",
       "      <th>Height</th>\n",
       "      <th>Weight</th>\n",
       "      <th>Shoe Size</th>\n",
       "      <th>Shopping Satisfaction Offline</th>\n",
       "      <th>Shopping Satisfaction Online</th>\n",
       "      <th>Average Spent Per Month</th>\n",
       "    </tr>\n",
       "  </thead>\n",
       "  <tbody>\n",
       "    <tr>\n",
       "      <th>0</th>\n",
       "      <td>1</td>\n",
       "      <td>Male</td>\n",
       "      <td>112</td>\n",
       "      <td>70</td>\n",
       "      <td>5</td>\n",
       "      <td>High</td>\n",
       "      <td>High</td>\n",
       "      <td>8426.54</td>\n",
       "    </tr>\n",
       "    <tr>\n",
       "      <th>1</th>\n",
       "      <td>2</td>\n",
       "      <td>LGBT</td>\n",
       "      <td>163</td>\n",
       "      <td>48</td>\n",
       "      <td>8</td>\n",
       "      <td>Medium</td>\n",
       "      <td>Medium</td>\n",
       "      <td>2014.68</td>\n",
       "    </tr>\n",
       "    <tr>\n",
       "      <th>2</th>\n",
       "      <td>3</td>\n",
       "      <td>Male</td>\n",
       "      <td>133</td>\n",
       "      <td>42</td>\n",
       "      <td>4</td>\n",
       "      <td>High</td>\n",
       "      <td>Medium</td>\n",
       "      <td>3018.07</td>\n",
       "    </tr>\n",
       "    <tr>\n",
       "      <th>3</th>\n",
       "      <td>4</td>\n",
       "      <td>Female</td>\n",
       "      <td>121</td>\n",
       "      <td>66</td>\n",
       "      <td>5</td>\n",
       "      <td>High</td>\n",
       "      <td>Low</td>\n",
       "      <td>3598.17</td>\n",
       "    </tr>\n",
       "    <tr>\n",
       "      <th>4</th>\n",
       "      <td>5</td>\n",
       "      <td>Female</td>\n",
       "      <td>171</td>\n",
       "      <td>36</td>\n",
       "      <td>11</td>\n",
       "      <td>High</td>\n",
       "      <td>Medium</td>\n",
       "      <td>4755.22</td>\n",
       "    </tr>\n",
       "  </tbody>\n",
       "</table>\n",
       "</div>"
      ],
      "text/plain": [
       "  No  Gender Height Weight Shoe Size Shopping Satisfaction Offline  \\\n",
       "0  1    Male    112     70         5                          High   \n",
       "1  2    LGBT    163     48         8                        Medium   \n",
       "2  3    Male    133     42         4                          High   \n",
       "3  4  Female    121     66         5                          High   \n",
       "4  5  Female    171     36        11                          High   \n",
       "\n",
       "  Shopping Satisfaction Online Average Spent Per Month  \n",
       "0                         High                 8426.54  \n",
       "1                       Medium                 2014.68  \n",
       "2                       Medium                 3018.07  \n",
       "3                          Low                 3598.17  \n",
       "4                       Medium                 4755.22  "
      ]
     },
     "execution_count": 11,
     "metadata": {},
     "output_type": "execute_result"
    }
   ],
   "source": [
    "responses.head()"
   ]
  },
  {
   "cell_type": "markdown",
   "metadata": {},
   "source": [
    "Now, let's just save this to a CSV."
   ]
  },
  {
   "cell_type": "code",
   "execution_count": 13,
   "metadata": {},
   "outputs": [],
   "source": [
    "responses.to_csv('responses.csv')"
   ]
  },
  {
   "cell_type": "code",
   "execution_count": null,
   "metadata": {
    "collapsed": true
   },
   "outputs": [],
   "source": []
  }
 ],
 "metadata": {
  "kernelspec": {
   "display_name": "pydata",
   "language": "python",
   "name": "pydata"
  },
  "language_info": {
   "codemirror_mode": {
    "name": "ipython",
    "version": 3
   },
   "file_extension": ".py",
   "mimetype": "text/x-python",
   "name": "python",
   "nbconvert_exporter": "python",
   "pygments_lexer": "ipython3",
   "version": "3.5.3"
  }
 },
 "nbformat": 4,
 "nbformat_minor": 2
}
